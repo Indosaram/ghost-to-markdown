{
 "cells": [
  {
   "cell_type": "code",
   "execution_count": 149,
   "metadata": {},
   "outputs": [],
   "source": [
    "import json\n",
    "import os\n",
    "import re\n",
    "\n",
    "import markdownify"
   ]
  },
  {
   "cell_type": "code",
   "execution_count": 150,
   "metadata": {},
   "outputs": [],
   "source": [
    "filename = \"data.json\"\n",
    "\n",
    "with open(filename, encoding=\"utf-8\") as file:\n",
    "    data = json.load(file)\n",
    "\n",
    "meta = data[\"db\"][0]['meta']\n",
    "data = data[\"db\"][0]['data']"
   ]
  },
  {
   "cell_type": "code",
   "execution_count": 151,
   "metadata": {},
   "outputs": [],
   "source": [
    "posts = data[\"posts\"]"
   ]
  },
  {
   "cell_type": "code",
   "execution_count": 152,
   "metadata": {},
   "outputs": [],
   "source": [
    "from collections import defaultdict\n",
    "tags = {tag['id']:tag['name'] for tag in data[\"tags\"]}\n",
    "posts_tags = data[\"posts_tags\"]\n",
    "tag_of_posts = defaultdict(list)\n",
    "for post_tag in posts_tags:\n",
    "    tag_of_posts[post_tag[\"post_id\"]].append(tags[post_tag[\"tag_id\"]])\n"
   ]
  },
  {
   "cell_type": "code",
   "execution_count": 153,
   "metadata": {},
   "outputs": [],
   "source": [
    "\n",
    "\n",
    "def clean_post(post):\n",
    "    cleaned_post = {}\n",
    "    cleaned_post['tags'] = tag_of_posts[post['id']]\n",
    "    try:\n",
    "        cleaned_post['markdown'] = json.loads(post['mobiledoc'])['cards'][0][1]['markdown']\n",
    "    except (KeyError, IndexError):\n",
    "        cleaned_post['markdown'] = markdownify.markdownify(post['html'])\n",
    "\n",
    "    contains = ['title', 'slug', 'published_at', 'comment_id']\n",
    "    for key in contains:\n",
    "        cleaned_post[key] = post[key]\n",
    "\n",
    "    return cleaned_post"
   ]
  },
  {
   "cell_type": "code",
   "execution_count": 154,
   "metadata": {},
   "outputs": [
    {
     "data": {
      "text/plain": [
       "dict_keys(['id', 'uuid', 'title', 'slug', 'mobiledoc', 'html', 'comment_id', 'plaintext', 'feature_image', 'featured', 'type', 'status', 'locale', 'visibility', 'created_at', 'updated_at', 'published_at', 'custom_excerpt', 'codeinjection_head', 'codeinjection_foot', 'custom_template', 'canonical_url', 'email_recipient_filter', 'newsletter_id', 'lexical'])"
      ]
     },
     "execution_count": 154,
     "metadata": {},
     "output_type": "execute_result"
    }
   ],
   "source": [
    "posts[0].keys()"
   ]
  },
  {
   "cell_type": "code",
   "execution_count": 155,
   "metadata": {},
   "outputs": [
    {
     "data": {
      "text/plain": [
       "dict_keys(['tags', 'markdown', 'title', 'slug', 'published_at', 'comment_id'])"
      ]
     },
     "execution_count": 155,
     "metadata": {},
     "output_type": "execute_result"
    }
   ],
   "source": [
    "clean_post(posts[0]).keys()"
   ]
  },
  {
   "cell_type": "code",
   "execution_count": 156,
   "metadata": {},
   "outputs": [],
   "source": [
    "def build_mdx(post):\n",
    "    mdx = f\"\"\"---\n",
    "title: '{post['title']}'\n",
    "slug: {post['slug']}\n",
    "tags: {post['tags']}\n",
    "date: '{post['published_at']}'\n",
    "---\n",
    "\n",
    "{post['markdown']}\n",
    "\"\"\"\n",
    "    return mdx"
   ]
  },
  {
   "cell_type": "code",
   "execution_count": 157,
   "metadata": {},
   "outputs": [],
   "source": [
    "if not os.path.exists(\"output\"):\n",
    "    os.mkdir(\"output\")\n",
    "\n",
    "for post in posts:\n",
    "    clean = clean_post(post)\n",
    "\n",
    "    with open(f\"output/{clean['slug']}.mdx\", \"w\") as file:\n",
    "        file.write(build_mdx(clean))\n"
   ]
  },
  {
   "cell_type": "code",
   "execution_count": 158,
   "metadata": {},
   "outputs": [],
   "source": [
    "import re\n",
    "\n",
    "\n",
    "def replace_cloudinary():\n",
    "    for file in os.listdir(\"output\"):\n",
    "        with open(\"output/\" + file, \"r\") as f:\n",
    "            text = f.read()\n",
    "\n",
    "        regex = re.compile(\n",
    "            \"(https://res-\\d.cloudinary.com/hpoocidos/image/upload/q_auto/v1/ghost-blog-images/(.+))\\)\"\n",
    "        )\n",
    "\n",
    "        groups = re.findall(regex, text)\n",
    "\n",
    "        if groups:\n",
    "            for group in groups:\n",
    "                text = text.replace(\n",
    "                    group[0], f\"/static/images/cloudinary/{group[1]}\"\n",
    "                )\n",
    "\n",
    "            with open(\"output/\" + file, \"w\") as f:\n",
    "                f.write(text)\n",
    "replace_cloudinary()"
   ]
  },
  {
   "cell_type": "code",
   "execution_count": null,
   "metadata": {},
   "outputs": [],
   "source": [
    "def replace_ghost():\n",
    "    for file in os.listdir(\"output\"):\n",
    "        with open(\"output/\" + file, \"r\") as f:\n",
    "            text = f.read()\n",
    "\n",
    "        regex = re.compile(\"(__GHOST_URL__/content/images/(\\d\\d\\d\\d/\\d\\d/.+))\\)\")\n",
    "\n",
    "        groups = re.findall(regex, text)\n",
    "        if groups:\n",
    "            for group in groups:\n",
    "                text = text.replace(\n",
    "                    group[0], f\"/static/images/ghost/{group[1]}\"\n",
    "                )\n",
    "\n",
    "        text.replace(\"__GHOST_URL__\", \"https://digital-manual.xyz\")\n",
    "\n",
    "        with open(\"output/\" + file, \"w\") as f:\n",
    "            f.write(text)\n",
    "replace_ghost()"
   ]
  }
 ],
 "metadata": {
  "kernelspec": {
   "display_name": "Python 3.10.2 64-bit ('3.10.2')",
   "language": "python",
   "name": "python3"
  },
  "language_info": {
   "codemirror_mode": {
    "name": "ipython",
    "version": 3
   },
   "file_extension": ".py",
   "mimetype": "text/x-python",
   "name": "python",
   "nbconvert_exporter": "python",
   "pygments_lexer": "ipython3",
   "version": "3.10.2"
  },
  "orig_nbformat": 4,
  "vscode": {
   "interpreter": {
    "hash": "cf21ffa931d04cbd1fcb3e04df1e103098f3bef525d4875cd1d263efa33f5e62"
   }
  }
 },
 "nbformat": 4,
 "nbformat_minor": 2
}
