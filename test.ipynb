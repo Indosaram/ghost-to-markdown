{
 "cells": [
  {
   "cell_type": "code",
   "execution_count": 80,
   "metadata": {},
   "outputs": [],
   "source": [
    "import json\n",
    "\n",
    "import markdownify\n",
    "\n",
    "filename = \"data.json\"\n",
    "\n",
    "with open(filename, encoding=\"utf-8\") as file:\n",
    "    data = json.load(file)\n",
    "\n",
    "data = data[\"db\"][0]['data']"
   ]
  },
  {
   "cell_type": "code",
   "execution_count": 81,
   "metadata": {},
   "outputs": [],
   "source": [
    "posts = data[\"posts\"]"
   ]
  },
  {
   "cell_type": "code",
   "execution_count": 82,
   "metadata": {},
   "outputs": [],
   "source": [
    "def clean_post(post):\n",
    "    cleaned_post = {}\n",
    "\n",
    "    try:\n",
    "        cleaned_post['markdown'] = json.loads(post['mobiledoc'])['cards'][0][1]['markdown']\n",
    "    except (KeyError, IndexError):\n",
    "        cleaned_post['markdown'] = markdownify.markdownify(post['html'])\n",
    "\n",
    "    contains = ['title', 'slug', 'published_at', 'comment_id']\n",
    "    for key in contains:\n",
    "        cleaned_post[key] = post[key]\n",
    "\n",
    "    return cleaned_post"
   ]
  },
  {
   "cell_type": "code",
   "execution_count": 84,
   "metadata": {},
   "outputs": [],
   "source": [
    "for post in posts:\n",
    "    clean = clean_post(post)\n",
    "    "
   ]
  },
  {
   "cell_type": "code",
   "execution_count": 85,
   "metadata": {},
   "outputs": [
    {
     "data": {
      "text/plain": [
       "{'id': '636f34209f01a218279aab05',\n",
       " 'uuid': 'd7a971c8-e974-4157-8771-d51789f6b7cd',\n",
       " 'title': '비트토렌트 한글판 다운로드 방법',\n",
       " 'slug': 'bittorrent-korean',\n",
       " 'mobiledoc': '{\"version\":\"0.3.1\",\"atoms\":[],\"cards\":[[\"bookmark\",{\"version\":\"1.0\",\"type\":\"bookmark\",\"url\":\"https://digit-all.tistory.com/36\",\"metadata\":{\"url\":\"https://digit-all.tistory.com/36\",\"title\":\"[2022년] 토렌트 다운로드 프로그램 추천 Top 5\",\"description\":\"토렌트, 많이 사용하시나요? 깜빡 잊고 보지 못한 프로그램을 다운받거나, 영화관에서 미처 보지 못했던 영화를 주말에 다운받아 본다던지.. 여러가지로 유용한게 바로 토렌트죠. 물론 저작권을 지켜서 다운받아야 하고, 때로는 다운받기만 해도 처벌받는 파일이 있거나, 파일 안에 바이러스가 들어있어 랜섬웨어에 감염되는 경우도 있습니다. 물론 바이러스 검사를 자동으로 해주는 토렌트 프로그램도 있지만, 가장 좋은 건 꼭 내가 어떤 파일을 다운받고 있는지 확인하는 것입니다. 당연히 내가 받고자 하는 파일 외에 바이러스가 들어있다면 다운받지 말아야…\",\"author\":\"일시불로그\",\"publisher\":\"TISTORY\",\"thumbnail\":\"https://img1.daumcdn.net/thumb/R800x0/?scode=mtistory2&fname=https%3A%2F%2Fk.kakaocdn.net%2Fdn%2FTASbP%2FbtqGdsJklRJ%2FgoRRTGSO6vWxTgPjbKdAik%2Fimg.jpg\",\"icon\":\"https://digit-all.tistory.com/favicon.ico\"}}],[\"bookmark\",{\"version\":\"1.0\",\"type\":\"bookmark\",\"url\":\"https://www.bittorrent.com/ko/downloads/complete/classic/\",\"metadata\":{\"url\":\"https://www.bittorrent.com/ko/downloads/complete/classic/\",\"title\":\"BitTorrent Classic 토렌트 클라이언트 다운로드\",\"description\":\"BitTorrent Classic 무료 버전을 다운로드하고 실행파일로 컴퓨터에 설치하십시오.\",\"author\":\"BitTorrent, Inc.\",\"publisher\":\"BitTorrent\",\"thumbnail\":\"https://www.bittorrent.com/social/bittorrent.png\",\"icon\":\"data:image/vnd.microsoft.icon;base64,iVBORw0KGgoAAAANSUhEUgAAACAAAAAgCAIAAAD8GO2jAAAAGXRFWHRTb2Z0d2FyZQBBZG9iZSBJbWFnZVJlYWR5ccllPAAAAUZJREFUeNpiVJZXYKAlYGKgMRj6FrAgc5auWE4VQ6MjIrFbYG5hMcSDCA20NDVdu3oNl6yMjIy5pUVwSAh+CxiR88GdB/eR5aLCI06dPIlfv6amZldvj6aWFrKgioIi1YLo+vXrZcUlZAYRMuDl5YU78+mTJ0+fPkW24+SJE7gSCLEWAE1ftnIFnLt2zZryklI499q1a7gsIDOI0OKWj4+Pysl0/rx5RGYgYoMImJyQ0wYy6OzpBiZZWmU0M3Nz/PmfUguAPvP19Hry5AmlQQTMUDX1dcjJZlL/hM+fPwPZQLKlsWnG7FmU5QM+PuSgALKBuWHBvPkQ7p7du6kfRHiSJhUsAGbd+XPnUVqaEplMIWmJtvVBfmEBrSwAFoLTZ80kMydraWvhlwWWgK5ubvhjG1+FQzagZoUz8JU+42jbdMAtAAgwACwaZPiwvFhuAAAAAElFTkSuQmCC\"}}],[\"image\",{\"src\":\"__GHOST_URL__/content/images/2022/11/image.png\",\"width\":696,\"height\":495}],[\"image\",{\"src\":\"__GHOST_URL__/content/images/2022/11/image-1.png\",\"width\":696,\"height\":495}],[\"image\",{\"src\":\"__GHOST_URL__/content/images/2022/11/image-2.png\",\"width\":696,\"height\":495}],[\"image\",{\"src\":\"__GHOST_URL__/content/images/2022/11/image-3.png\",\"width\":1088,\"height\":773}],[\"image\",{\"src\":\"__GHOST_URL__/content/images/2022/11/image-4.png\",\"width\":1087,\"height\":773}],[\"image\",{\"src\":\"__GHOST_URL__/content/images/2022/11/image-5.png\",\"width\":696,\"height\":495}],[\"image\",{\"src\":\"__GHOST_URL__/content/images/2022/11/image-6.png\",\"width\":1088,\"height\":773,\"cardWidth\":\"\",\"caption\":\"configuration\"}],[\"image\",{\"src\":\"__GHOST_URL__/content/images/2022/11/image-7.png\",\"width\":696,\"height\":495}],[\"code\",{\"code\":\"%AppData%\\\\\\\\bitTorrent\"}],[\"image\",{\"src\":\"__GHOST_URL__/content/images/2022/11/image-8.png\",\"width\":1628,\"height\":374}],[\"image\",{\"src\":\"__GHOST_URL__/content/images/2022/11/image-9.png\",\"width\":1266,\"height\":713}],[\"bookmark\",{\"version\":\"1.0\",\"type\":\"bookmark\",\"url\":\"__GHOST_URL__/torrent-top-sites/\",\"metadata\":{\"url\":\"__GHOST_URL__/torrent-top-sites/\",\"title\":\"토렌트추천순위 (2021/01)\",\"description\":\"토렌트추천순위, 토렌트 다운로드 사이트 순위 궁금하셨죠? 또 매번 바뀌는 사이트 주소 찾아내기 짜증나시죠? 제가 매주 일요일 업데이트하는 토렌트추천순위 모음 즐겨찾기에 추가해놓으시면 주소 막힐 때 간단하게 새주소로 접속 가능합니다.\",\"author\":\"일시불\",\"publisher\":\"디지털 매뉴얼\",\"thumbnail\":\"https://images.unsplash.com/photo-1491472253230-a044054ca35f?ixlib=rb-1.2.1&q=80&fm=jpg&crop=entropy&cs=tinysrgb&w=2000&fit=max&ixid=eyJhcHBfaWQiOjExNzczfQ\",\"icon\":\"__GHOST_URL__/assets/icon-192x192.png?v=21984369c9\"}}]],\"markups\":[[\"a\",[\"href\",\"https://legacy.utorrent.com/scripts/dl.php?track=stable&build=30544&client=bittorrent\"]],[\"code\"]],\"sections\":[[1,\"p\",[]],[1,\"p\",[[0,[],0,\"안녕하세요! 오늘은 비트토렌트 한글판 다운로드 방법을 소개해드리려고 합니다. \"]]],[1,\"p\",[]],[1,\"h2\",[[0,[],0,\"비트토렌트란?\"]]],[1,\"p\",[[0,[],0,\"먼저 비트토렌트는 가장 최신 기술이 적용된 토렌트 클라이언트입니다. 덕분에 가장 안전하고, 빠른 다운로드 속도를 자랑합니다. 물론 이 외에도 다양한 토렌트 프로그램이 있는데요. 혹시 자세한 비교가 궁금하시다면 아래 블로그를 참고하세요.\"]]],[10,0],[1,\"p\",[]],[1,\"h2\",[[0,[],0,\"비트토렌트 한글판 다운로드\"]]],[1,\"p\",[[0,[],0,\"비트토렌트는 다운로드할 때 언어 선택 옵션이 없습니다. 다만 다운로드 페이지는 영어가 아닌 한국어로 제공되는 곳을 찾았는데요. 아래 링크를 클릭하시면 비트토렌트 한국어 다운로드 페이지로 이동됩니다.\"]]],[1,\"p\",[[0,[],0,\"다운로드 페이지에서 Bittorrent Classic 을 선택하고 다운로드 받으시면 됩니다.\"]]],[10,1],[1,\"p\",[]],[1,\"h3\",[[0,[],0,\"비트토렌트 한글판 설치 방법\"]]],[1,\"p\",[[0,[],0,\"비트토렌트 한글판을 사용하려면 일단 일반 영어 버전을 다운로드 받은 다음 한글 패치를 적용하면 됩니다. 한글 패치 방법이 매우 간단하기 때문에 쉽게 하실 수 있습니다.\"]]],[1,\"p\",[[0,[],0,\"다운로드를 완료한 다음에는 설치 파일을 실행해 주시면 됩니다. 처음 3 단계는 다음 버튼과 동의 버튼만 누르면 되는데요.\"]]],[10,2],[10,3],[10,4],[1,\"p\",[[0,[],0,\"중간에 이렇게 애드웨어 설치 유도 페이지가 있으니 주의하시길 바랍니다. 여기서 Decline 버튼을 누르시면 광고 프로그램을 설치하지 않고 넘어갈 수 있습니다.\"]]],[10,5],[10,6],[1,\"p\",[[0,[],0,\"마지막으로 설치 옵션을 선택해주면 됩니다.\"]]],[10,7],[1,\"p\",[[0,[],0,\"여기서 윈도우 시작 시 비트토렌트를 실행할 거냐고 묻는 부분이 있는데, 체크하시게 되면 윈도우 시작 시 자동으로 비트토렌트가 실행됩니다.\"]]],[10,8],[1,\"p\",[[0,[],0,\"아래 화면이 나오면 정상적으로 설치 중이고, 2~3분 정도 기다리시면 설치가 완료됩니다.\"]]],[10,9],[1,\"p\",[]],[1,\"h3\",[[0,[],0,\"한글 언어 팩 적용하기\"]]],[1,\"p\",[[0,[],0,\"처음 비트토렌트를 구동하면 영어로 표기되어 있으실 건데요. 영어로 사용하기는 좀 불편하기 때문에 한글 언어 팩을 적용해 보겠습니다.\"]]],[1,\"p\",[[0,[],0,\"아래 링크에서 비트토렌트 한글판 팩을 다운로드 받아주세요.\"]]],[1,\"p\",[[0,[0],1,\"https://legacy.utorrent.com/scripts/dl.php?track=stable&build=30544&client=bittorrent\"]]],[1,\"p\",[[0,[],0,\"그러면 \"],[0,[1],1,\"bittorrent.lng\"],[0,[],0,\" 파일이 생겼을 겁니다. 이제 이 파일을 복사해야 합니다. 윈도우 탐색기를 여시고, 주소 표시줄에 다음과 같이 입력하세요.\"]]],[10,10],[1,\"p\",[[0,[],0,\"그러면 아래와 같이 비트토렌트 폴더로 이동되고, 여기에 다운로드 받은 \"],[0,[1],1,\"bittorrent.lng\"],[0,[],0,\" 파일을 복사해 넣으시면 됩니다.\"]]],[10,11],[1,\"p\",[[0,[],0,\"그리고 비트토렌트를 재시작해주세요. 이때 창만 끄시면 안되고 프로그램을 완전히 종료해야 합니다. 간혹 알림 센터에 아이콘이 있는 경우가 있는데, 이러면 창만 꺼지고 프로그램은 작동 중이라는 의미입니다.\"]]],[10,12],[1,\"p\",[[0,[],0,\"오늘은 비트토렌트 한글판 설치 방법을 소개해 드렸는데요. 혹시 빠르고 좋은 토렌트 다운로드 사이트를 찾으신다면 아래 블로그 확인해 보시길 추천드립니다.\"]]],[10,13],[1,\"p\",[]]],\"ghostVersion\":\"4.0\"}',\n",
       " 'html': '<p></p><p>안녕하세요! 오늘은 비트토렌트 한글판 다운로드 방법을 소개해드리려고 합니다. </p><p></p><h2 id=\"%EB%B9%84%ED%8A%B8%ED%86%A0%EB%A0%8C%ED%8A%B8%EB%9E%80\">비트토렌트란?</h2><p>먼저 비트토렌트는 가장 최신 기술이 적용된 토렌트 클라이언트입니다. 덕분에 가장 안전하고, 빠른 다운로드 속도를 자랑합니다. 물론 이 외에도 다양한 토렌트 프로그램이 있는데요. 혹시 자세한 비교가 궁금하시다면 아래 블로그를 참고하세요.</p><figure class=\"kg-card kg-bookmark-card\"><a class=\"kg-bookmark-container\" href=\"https://digit-all.tistory.com/36\"><div class=\"kg-bookmark-content\"><div class=\"kg-bookmark-title\">[2022년] 토렌트 다운로드 프로그램 추천 Top 5</div><div class=\"kg-bookmark-description\">토렌트, 많이 사용하시나요? 깜빡 잊고 보지 못한 프로그램을 다운받거나, 영화관에서 미처 보지 못했던 영화를 주말에 다운받아 본다던지.. 여러가지로 유용한게 바로 토렌트죠. 물론 저작권을 지켜서 다운받아야 하고, 때로는 다운받기만 해도 처벌받는 파일이 있거나, 파일 안에 바이러스가 들어있어 랜섬웨어에 감염되는 경우도 있습니다. 물론 바이러스 검사를 자동으로 해주는 토렌트 프로그램도 있지만, 가장 좋은 건 꼭 내가 어떤 파일을 다운받고 있는지 확인하는 것입니다. 당연히 내가 받고자 하는 파일 외에 바이러스가 들어있다면 다운받지 말아야…</div><div class=\"kg-bookmark-metadata\"><img class=\"kg-bookmark-icon\" src=\"https://digit-all.tistory.com/favicon.ico\" alt=\"\"><span class=\"kg-bookmark-author\">TISTORY</span><span class=\"kg-bookmark-publisher\">일시불로그</span></div></div><div class=\"kg-bookmark-thumbnail\"><img src=\"https://img1.daumcdn.net/thumb/R800x0/?scode&#x3D;mtistory2&amp;fname&#x3D;https%3A%2F%2Fk.kakaocdn.net%2Fdn%2FTASbP%2FbtqGdsJklRJ%2FgoRRTGSO6vWxTgPjbKdAik%2Fimg.jpg\" alt=\"\"></div></a></figure><p></p><h2 id=\"%EB%B9%84%ED%8A%B8%ED%86%A0%EB%A0%8C%ED%8A%B8-%ED%95%9C%EA%B8%80%ED%8C%90-%EB%8B%A4%EC%9A%B4%EB%A1%9C%EB%93%9C\">비트토렌트 한글판 다운로드</h2><p>비트토렌트는 다운로드할 때 언어 선택 옵션이 없습니다. 다만 다운로드 페이지는 영어가 아닌 한국어로 제공되는 곳을 찾았는데요. 아래 링크를 클릭하시면 비트토렌트 한국어 다운로드 페이지로 이동됩니다.</p><p>다운로드 페이지에서 Bittorrent Classic 을 선택하고 다운로드 받으시면 됩니다.</p><figure class=\"kg-card kg-bookmark-card\"><a class=\"kg-bookmark-container\" href=\"https://www.bittorrent.com/ko/downloads/complete/classic/\"><div class=\"kg-bookmark-content\"><div class=\"kg-bookmark-title\">BitTorrent Classic 토렌트 클라이언트 다운로드</div><div class=\"kg-bookmark-description\">BitTorrent Classic 무료 버전을 다운로드하고 실행파일로 컴퓨터에 설치하십시오.</div><div class=\"kg-bookmark-metadata\"><img class=\"kg-bookmark-icon\" src=\"data:image/vnd.microsoft.icon;base64,iVBORw0KGgoAAAANSUhEUgAAACAAAAAgCAIAAAD8GO2jAAAAGXRFWHRTb2Z0d2FyZQBBZG9iZSBJbWFnZVJlYWR5ccllPAAAAUZJREFUeNpiVJZXYKAlYGKgMRj6FrAgc5auWE4VQ6MjIrFbYG5hMcSDCA20NDVdu3oNl6yMjIy5pUVwSAh+CxiR88GdB/eR5aLCI06dPIlfv6amZldvj6aWFrKgioIi1YLo+vXrZcUlZAYRMuDl5YU78+mTJ0+fPkW24+SJE7gSCLEWAE1ftnIFnLt2zZryklI499q1a7gsIDOI0OKWj4+Pysl0/rx5RGYgYoMImJyQ0wYy6OzpBiZZWmU0M3Nz/PmfUguAPvP19Hry5AmlQQTMUDX1dcjJZlL/hM+fPwPZQLKlsWnG7FmU5QM+PuSgALKBuWHBvPkQ7p7du6kfRHiSJhUsAGbd+XPnUVqaEplMIWmJtvVBfmEBrSwAFoLTZ80kMydraWvhlwWWgK5ubvhjG1+FQzagZoUz8JU+42jbdMAtAAgwACwaZPiwvFhuAAAAAElFTkSuQmCC\" alt=\"\"><span class=\"kg-bookmark-author\">BitTorrent</span><span class=\"kg-bookmark-publisher\">BitTorrent, Inc.</span></div></div><div class=\"kg-bookmark-thumbnail\"><img src=\"https://www.bittorrent.com/social/bittorrent.png\" alt=\"\"></div></a></figure><p></p><h3 id=\"%EB%B9%84%ED%8A%B8%ED%86%A0%EB%A0%8C%ED%8A%B8-%ED%95%9C%EA%B8%80%ED%8C%90-%EC%84%A4%EC%B9%98-%EB%B0%A9%EB%B2%95\">비트토렌트 한글판 설치 방법</h3><p>비트토렌트 한글판을 사용하려면 일단 일반 영어 버전을 다운로드 받은 다음 한글 패치를 적용하면 됩니다. 한글 패치 방법이 매우 간단하기 때문에 쉽게 하실 수 있습니다.</p><p>다운로드를 완료한 다음에는 설치 파일을 실행해 주시면 됩니다. 처음 3 단계는 다음 버튼과 동의 버튼만 누르면 되는데요.</p><figure class=\"kg-card kg-image-card\"><img src=\"__GHOST_URL__/content/images/2022/11/image.png\" class=\"kg-image\" alt loading=\"lazy\" width=\"696\" height=\"495\" srcset=\"__GHOST_URL__/content/images/size/w600/2022/11/image.png 600w, __GHOST_URL__/content/images/2022/11/image.png 696w\"></figure><figure class=\"kg-card kg-image-card\"><img src=\"__GHOST_URL__/content/images/2022/11/image-1.png\" class=\"kg-image\" alt loading=\"lazy\" width=\"696\" height=\"495\" srcset=\"__GHOST_URL__/content/images/size/w600/2022/11/image-1.png 600w, __GHOST_URL__/content/images/2022/11/image-1.png 696w\"></figure><figure class=\"kg-card kg-image-card\"><img src=\"__GHOST_URL__/content/images/2022/11/image-2.png\" class=\"kg-image\" alt loading=\"lazy\" width=\"696\" height=\"495\" srcset=\"__GHOST_URL__/content/images/size/w600/2022/11/image-2.png 600w, __GHOST_URL__/content/images/2022/11/image-2.png 696w\"></figure><p>중간에 이렇게 애드웨어 설치 유도 페이지가 있으니 주의하시길 바랍니다. 여기서 Decline 버튼을 누르시면 광고 프로그램을 설치하지 않고 넘어갈 수 있습니다.</p><figure class=\"kg-card kg-image-card\"><img src=\"__GHOST_URL__/content/images/2022/11/image-3.png\" class=\"kg-image\" alt loading=\"lazy\" width=\"1088\" height=\"773\" srcset=\"__GHOST_URL__/content/images/size/w600/2022/11/image-3.png 600w, __GHOST_URL__/content/images/size/w1000/2022/11/image-3.png 1000w, __GHOST_URL__/content/images/2022/11/image-3.png 1088w\" sizes=\"(min-width: 720px) 720px\"></figure><figure class=\"kg-card kg-image-card\"><img src=\"__GHOST_URL__/content/images/2022/11/image-4.png\" class=\"kg-image\" alt loading=\"lazy\" width=\"1087\" height=\"773\" srcset=\"__GHOST_URL__/content/images/size/w600/2022/11/image-4.png 600w, __GHOST_URL__/content/images/size/w1000/2022/11/image-4.png 1000w, __GHOST_URL__/content/images/2022/11/image-4.png 1087w\" sizes=\"(min-width: 720px) 720px\"></figure><p>마지막으로 설치 옵션을 선택해주면 됩니다.</p><figure class=\"kg-card kg-image-card\"><img src=\"__GHOST_URL__/content/images/2022/11/image-5.png\" class=\"kg-image\" alt loading=\"lazy\" width=\"696\" height=\"495\" srcset=\"__GHOST_URL__/content/images/size/w600/2022/11/image-5.png 600w, __GHOST_URL__/content/images/2022/11/image-5.png 696w\"></figure><p>여기서 윈도우 시작 시 비트토렌트를 실행할 거냐고 묻는 부분이 있는데, 체크하시게 되면 윈도우 시작 시 자동으로 비트토렌트가 실행됩니다.</p><figure class=\"kg-card kg-image-card kg-card-hascaption\"><img src=\"__GHOST_URL__/content/images/2022/11/image-6.png\" class=\"kg-image\" alt loading=\"lazy\" width=\"1088\" height=\"773\" srcset=\"__GHOST_URL__/content/images/size/w600/2022/11/image-6.png 600w, __GHOST_URL__/content/images/size/w1000/2022/11/image-6.png 1000w, __GHOST_URL__/content/images/2022/11/image-6.png 1088w\" sizes=\"(min-width: 720px) 720px\"><figcaption>configuration</figcaption></figure><p>아래 화면이 나오면 정상적으로 설치 중이고, 2~3분 정도 기다리시면 설치가 완료됩니다.</p><figure class=\"kg-card kg-image-card\"><img src=\"__GHOST_URL__/content/images/2022/11/image-7.png\" class=\"kg-image\" alt loading=\"lazy\" width=\"696\" height=\"495\" srcset=\"__GHOST_URL__/content/images/size/w600/2022/11/image-7.png 600w, __GHOST_URL__/content/images/2022/11/image-7.png 696w\"></figure><p></p><h3 id=\"%ED%95%9C%EA%B8%80-%EC%96%B8%EC%96%B4-%ED%8C%A9-%EC%A0%81%EC%9A%A9%ED%95%98%EA%B8%B0\">한글 언어 팩 적용하기</h3><p>처음 비트토렌트를 구동하면 영어로 표기되어 있으실 건데요. 영어로 사용하기는 좀 불편하기 때문에 한글 언어 팩을 적용해 보겠습니다.</p><p>아래 링크에서 비트토렌트 한글판 팩을 다운로드 받아주세요.</p><p><a href=\"https://legacy.utorrent.com/scripts/dl.php?track=stable&amp;build=30544&amp;client=bittorrent\">https://legacy.utorrent.com/scripts/dl.php?track=stable&amp;build=30544&amp;client=bittorrent</a></p><p>그러면 <code>bittorrent.lng</code> 파일이 생겼을 겁니다. 이제 이 파일을 복사해야 합니다. 윈도우 탐색기를 여시고, 주소 표시줄에 다음과 같이 입력하세요.</p><pre><code>%AppData%\\\\bitTorrent</code></pre><p>그러면 아래와 같이 비트토렌트 폴더로 이동되고, 여기에 다운로드 받은 <code>bittorrent.lng</code> 파일을 복사해 넣으시면 됩니다.</p><figure class=\"kg-card kg-image-card\"><img src=\"__GHOST_URL__/content/images/2022/11/image-8.png\" class=\"kg-image\" alt loading=\"lazy\" width=\"1628\" height=\"374\" srcset=\"__GHOST_URL__/content/images/size/w600/2022/11/image-8.png 600w, __GHOST_URL__/content/images/size/w1000/2022/11/image-8.png 1000w, __GHOST_URL__/content/images/size/w1600/2022/11/image-8.png 1600w, __GHOST_URL__/content/images/2022/11/image-8.png 1628w\" sizes=\"(min-width: 720px) 720px\"></figure><p>그리고 비트토렌트를 재시작해주세요. 이때 창만 끄시면 안되고 프로그램을 완전히 종료해야 합니다. 간혹 알림 센터에 아이콘이 있는 경우가 있는데, 이러면 창만 꺼지고 프로그램은 작동 중이라는 의미입니다.</p><figure class=\"kg-card kg-image-card\"><img src=\"__GHOST_URL__/content/images/2022/11/image-9.png\" class=\"kg-image\" alt loading=\"lazy\" width=\"1266\" height=\"713\" srcset=\"__GHOST_URL__/content/images/size/w600/2022/11/image-9.png 600w, __GHOST_URL__/content/images/size/w1000/2022/11/image-9.png 1000w, __GHOST_URL__/content/images/2022/11/image-9.png 1266w\" sizes=\"(min-width: 720px) 720px\"></figure><p>오늘은 비트토렌트 한글판 설치 방법을 소개해 드렸는데요. 혹시 빠르고 좋은 토렌트 다운로드 사이트를 찾으신다면 아래 블로그 확인해 보시길 추천드립니다.</p><figure class=\"kg-card kg-bookmark-card\"><a class=\"kg-bookmark-container\" href=\"__GHOST_URL__/torrent-top-sites/\"><div class=\"kg-bookmark-content\"><div class=\"kg-bookmark-title\">토렌트추천순위 (2021/01)</div><div class=\"kg-bookmark-description\">토렌트추천순위, 토렌트 다운로드 사이트 순위 궁금하셨죠? 또 매번 바뀌는 사이트 주소 찾아내기 짜증나시죠? 제가 매주 일요일 업데이트하는 토렌트추천순위 모음 즐겨찾기에 추가해놓으시면 주소 막힐 때 간단하게 새주소로 접속 가능합니다.</div><div class=\"kg-bookmark-metadata\"><img class=\"kg-bookmark-icon\" src=\"__GHOST_URL__/assets/icon-192x192.png?v&#x3D;21984369c9\" alt=\"\"><span class=\"kg-bookmark-author\">디지털 매뉴얼</span><span class=\"kg-bookmark-publisher\">일시불</span></div></div><div class=\"kg-bookmark-thumbnail\"><img src=\"https://images.unsplash.com/photo-1491472253230-a044054ca35f?ixlib&#x3D;rb-1.2.1&amp;q&#x3D;80&amp;fm&#x3D;jpg&amp;crop&#x3D;entropy&amp;cs&#x3D;tinysrgb&amp;w&#x3D;2000&amp;fit&#x3D;max&amp;ixid&#x3D;eyJhcHBfaWQiOjExNzczfQ\" alt=\"\"></div></a></figure>',\n",
       " 'comment_id': '636f34209f01a218279aab05',\n",
       " 'plaintext': '\\n\\n안녕하세요! 오늘은 비트토렌트 한글판 다운로드 방법을 소개해드리려고 합니다. \\n\\n\\n\\n비트토렌트란?\\n먼저 비트토렌트는 가장 최신 기술이 적용된 토렌트 클라이언트입니다. 덕분에 가장 안전하고, 빠른 다운로드 속도를 자랑합니다. 물론 이 외에도\\n다양한 토렌트 프로그램이 있는데요. 혹시 자세한 비교가 궁금하시다면 아래 블로그를 참고하세요.\\n\\n[2022년] 토렌트 다운로드 프로그램 추천 Top 5토렌트, 많이 사용하시나요? 깜빡 잊고 보지 못한 프로그램을 다운받거나, 영화관에서 미처\\n보지 못했던 영화를 주말에 다운받아 본다던지.. 여러가지로 유용한게 바로 토렌트죠. 물론 저작권을 지켜서 다운받아야 하고, 때로는 다운받기만\\n해도 처벌받는 파일이 있거나, 파일 안에 바이러스가 들어있어 랜섬웨어에 감염되는 경우도 있습니다. 물론 바이러스 검사를 자동으로 해주는 토렌트\\n프로그램도 있지만, 가장 좋은 건 꼭 내가 어떤 파일을 다운받고 있는지 확인하는 것입니다. 당연히 내가 받고자 하는 파일 외에 바이러스가\\n들어있다면 다운받지 말아야…TISTORY일시불로그 [https://digit-all.tistory.com/36]\\n\\n비트토렌트 한글판 다운로드\\n비트토렌트는 다운로드할 때 언어 선택 옵션이 없습니다. 다만 다운로드 페이지는 영어가 아닌 한국어로 제공되는 곳을 찾았는데요. 아래 링크를\\n클릭하시면 비트토렌트 한국어 다운로드 페이지로 이동됩니다.\\n\\n다운로드 페이지에서 Bittorrent Classic 을 선택하고 다운로드 받으시면 됩니다.\\n\\nBitTorrent Classic 토렌트 클라이언트 다운로드BitTorrent Classic 무료 버전을 다운로드하고 실행파일로 컴퓨터에\\n설치하십시오.BitTorrentBitTorrent, Inc.\\n[https://www.bittorrent.com/ko/downloads/complete/classic/]\\n\\n비트토렌트 한글판 설치 방법\\n비트토렌트 한글판을 사용하려면 일단 일반 영어 버전을 다운로드 받은 다음 한글 패치를 적용하면 됩니다. 한글 패치 방법이 매우 간단하기 때문에\\n쉽게 하실 수 있습니다.\\n\\n다운로드를 완료한 다음에는 설치 파일을 실행해 주시면 됩니다. 처음 3 단계는 다음 버튼과 동의 버튼만 누르면 되는데요.\\n\\n중간에 이렇게 애드웨어 설치 유도 페이지가 있으니 주의하시길 바랍니다. 여기서 Decline 버튼을 누르시면 광고 프로그램을 설치하지 않고\\n넘어갈 수 있습니다.\\n\\n마지막으로 설치 옵션을 선택해주면 됩니다.\\n\\n여기서 윈도우 시작 시 비트토렌트를 실행할 거냐고 묻는 부분이 있는데, 체크하시게 되면 윈도우 시작 시 자동으로 비트토렌트가 실행됩니다.\\n\\nconfiguration아래 화면이 나오면 정상적으로 설치 중이고, 2~3분 정도 기다리시면 설치가 완료됩니다.\\n\\n\\n\\n한글 언어 팩 적용하기\\n처음 비트토렌트를 구동하면 영어로 표기되어 있으실 건데요. 영어로 사용하기는 좀 불편하기 때문에 한글 언어 팩을 적용해 보겠습니다.\\n\\n아래 링크에서 비트토렌트 한글판 팩을 다운로드 받아주세요.\\n\\nhttps://legacy.utorrent.com/scripts/dl.php?track=stable&build=30544&client=bittorrent\\n[https://legacy.utorrent.com/scripts/dl.php?track=stable&build=30544&client=bittorrent]\\n\\n그러면 bittorrent.lng 파일이 생겼을 겁니다. 이제 이 파일을 복사해야 합니다. 윈도우 탐색기를 여시고, 주소 표시줄에 다음과 같이\\n입력하세요.\\n\\n%AppData%\\\\bitTorrent\\n\\n그러면 아래와 같이 비트토렌트 폴더로 이동되고, 여기에 다운로드 받은 bittorrent.lng 파일을 복사해 넣으시면 됩니다.\\n\\n그리고 비트토렌트를 재시작해주세요. 이때 창만 끄시면 안되고 프로그램을 완전히 종료해야 합니다. 간혹 알림 센터에 아이콘이 있는 경우가 있는데,\\n이러면 창만 꺼지고 프로그램은 작동 중이라는 의미입니다.\\n\\n오늘은 비트토렌트 한글판 설치 방법을 소개해 드렸는데요. 혹시 빠르고 좋은 토렌트 다운로드 사이트를 찾으신다면 아래 블로그 확인해 보시길\\n추천드립니다.\\n\\n토렌트추천순위 (2021/01)토렌트추천순위, 토렌트 다운로드 사이트 순위 궁금하셨죠? 또 매번 바뀌는 사이트 주소 찾아내기 짜증나시죠? 제가\\n매주 일요일 업데이트하는 토렌트추천순위 모음 즐겨찾기에 추가해놓으시면 주소 막힐 때 간단하게 새주소로 접속 가능합니다.디지털 매뉴얼일시불\\n[https://digital-manual.xyz/torrent-top-sites/]',\n",
       " 'feature_image': '__GHOST_URL__/content/images/2022/11/screen-classic-laptop-949330e57fd4b625eece4693fb7eafd1-1-.webp',\n",
       " 'featured': 0,\n",
       " 'type': 'post',\n",
       " 'status': 'published',\n",
       " 'locale': None,\n",
       " 'visibility': 'public',\n",
       " 'created_at': '2022-11-12T05:50:24.000Z',\n",
       " 'updated_at': '2022-11-12T08:42:03.000Z',\n",
       " 'published_at': '2022-11-12T08:39:57.000Z',\n",
       " 'custom_excerpt': None,\n",
       " 'codeinjection_head': None,\n",
       " 'codeinjection_foot': None,\n",
       " 'custom_template': None,\n",
       " 'canonical_url': None,\n",
       " 'email_recipient_filter': 'all',\n",
       " 'newsletter_id': None,\n",
       " 'lexical': None}"
      ]
     },
     "execution_count": 85,
     "metadata": {},
     "output_type": "execute_result"
    }
   ],
   "source": [
    "posts[-1]"
   ]
  }
 ],
 "metadata": {
  "kernelspec": {
   "display_name": "Python 3.10.8 64-bit ('3.10.8')",
   "language": "python",
   "name": "python3"
  },
  "language_info": {
   "codemirror_mode": {
    "name": "ipython",
    "version": 3
   },
   "file_extension": ".py",
   "mimetype": "text/x-python",
   "name": "python",
   "nbconvert_exporter": "python",
   "pygments_lexer": "ipython3",
   "version": "3.10.8"
  },
  "orig_nbformat": 4,
  "vscode": {
   "interpreter": {
    "hash": "bf4d454bb98444ca019bb9044b463042a5d68b10244b75cce03a51b560cef712"
   }
  }
 },
 "nbformat": 4,
 "nbformat_minor": 2
}
